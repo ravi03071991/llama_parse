{
 "cells": [
  {
   "cell_type": "markdown",
   "id": "d27f1082-cd10-405e-9570-6f0e934bba8b",
   "metadata": {},
   "source": [
    "# LlamaParse JSON Mode Tour\n",
    "\n",
    "<a href=\"https://colab.research.google.com/github/run-llama/llama_parse/blob/main/examples/demo_json.ipynb\" target=\"_parent\"><img src=\"https://colab.research.google.com/assets/colab-badge.svg\" alt=\"Open In Colab\"/></a>\n",
    "\n",
    "This notebook shows you how to use LlamaParse JSON mode with LlamaIndex and all the features it supports.\n",
    "\n",
    "JSON mode gives you a rich variety of data and metadata about every page in your document."
   ]
  },
  {
   "cell_type": "markdown",
   "id": "a004db48-8d3f-421c-915a-477692f71b90",
   "metadata": {},
   "source": [
    "## Setup\n",
    "\n",
    "Let's bring in our imports and set up our API keys."
   ]
  },
  {
   "cell_type": "code",
   "execution_count": null,
   "id": "bc6a7a4b-b568-4db5-bcba-62f5c517ff3a",
   "metadata": {},
   "outputs": [],
   "source": [
    "!pip install llama-index-core\n",
    "!pip install llama-parse"
   ]
  },
  {
   "cell_type": "code",
   "execution_count": null,
   "id": "0879301c-ff91-4431-941a-6c0ef7cd8fe2",
   "metadata": {},
   "outputs": [],
   "source": [
    "# llama-parse is async-first, running the async code in a notebook requires the use of nest_asyncio\n",
    "import nest_asyncio\n",
    "\n",
    "nest_asyncio.apply()\n",
    "\n",
    "import os\n",
    "\n",
    "# API access to llama-cloud\n",
    "os.environ[\"LLAMA_CLOUD_API_KEY\"] = \"llx-xxx\""
   ]
  },
  {
   "cell_type": "markdown",
   "id": "b411d2ee-3e6b-45b0-b532-4a8e3abcdea0",
   "metadata": {},
   "source": [
    "## Load Data\n",
    "\n",
    "Let's load a large and complex PDF, San Francisco's 2023 proposed budget."
   ]
  },
  {
   "cell_type": "code",
   "execution_count": null,
   "id": "c39d408f-e885-4940-85c7-b09ca3bc7cb7",
   "metadata": {},
   "outputs": [
    {
     "name": "stdout",
     "output_type": "stream",
     "text": [
      "--2024-12-04 13:56:36--  https://www.dropbox.com/scl/fi/vip161t63s56vd94neqlt/2023-CSF_Proposed_Budget_Book_June_2023_Master_Web.pdf?rlkey=hemoce3w1jsuf6s2bz87g549i&dl=0\n",
      "Resolving www.dropbox.com (www.dropbox.com)... 162.125.13.18\n",
      "Connecting to www.dropbox.com (www.dropbox.com)|162.125.13.18|:443... connected.\n",
      "HTTP request sent, awaiting response... 302 Found\n",
      "Location: https://uce36de57a25faafb038bd1e1d77.dl.dropboxusercontent.com/cd/0/inline/CfqOgRY-KYDIZOYMXWDEvq-vBxbuzmjGMg7TPEYNFxTGKcG4aHGoLUTv_SRj3qxHYx1UHn07R_joo9rVEIcO6mAnX8mVDaqVP9k5da3CeOx1FMoFzU_fH_xpfexr2EHKjWY/file# [following]\n",
      "--2024-12-04 13:56:37--  https://uce36de57a25faafb038bd1e1d77.dl.dropboxusercontent.com/cd/0/inline/CfqOgRY-KYDIZOYMXWDEvq-vBxbuzmjGMg7TPEYNFxTGKcG4aHGoLUTv_SRj3qxHYx1UHn07R_joo9rVEIcO6mAnX8mVDaqVP9k5da3CeOx1FMoFzU_fH_xpfexr2EHKjWY/file\n",
      "Resolving uce36de57a25faafb038bd1e1d77.dl.dropboxusercontent.com (uce36de57a25faafb038bd1e1d77.dl.dropboxusercontent.com)... 162.125.13.15\n",
      "Connecting to uce36de57a25faafb038bd1e1d77.dl.dropboxusercontent.com (uce36de57a25faafb038bd1e1d77.dl.dropboxusercontent.com)|162.125.13.15|:443... connected.\n",
      "HTTP request sent, awaiting response... 302 Found\n",
      "Location: /cd/0/inline2/Cfr7emavXGEYfpPcgj9rQbFNdOlHsm8w-Q0ia7cWCMklGRf76H7OmyqwQPBd1D0hyLN2biZCghL51-mv3pCDxRLLr_gVEc8Dv2Xtbin8-iIx01zt6QgMbpxDoeDoMeuluhrgMo-aw8hpz7QAAOGewGbM7IsbgKtN7rRd-t0ITsPvx4_wGDM9ZaZrIYJ8DGTTdcn8sHielv_0bzg2idiy7cVcw01pTAgyguzn7iyqrspxvZo968jGg9wfJAMzlWVJqHDji7YK5lu93izGEOu5MAo6LBHhX_AZ7TUYTvHANGiblmnswV0P_Yht1F_dyhFpitdUFLgdhHAMN2jZe3TAz5BJ9FK-PzzOwA9UFupnuEK7qQ/file [following]\n",
      "--2024-12-04 13:56:37--  https://uce36de57a25faafb038bd1e1d77.dl.dropboxusercontent.com/cd/0/inline2/Cfr7emavXGEYfpPcgj9rQbFNdOlHsm8w-Q0ia7cWCMklGRf76H7OmyqwQPBd1D0hyLN2biZCghL51-mv3pCDxRLLr_gVEc8Dv2Xtbin8-iIx01zt6QgMbpxDoeDoMeuluhrgMo-aw8hpz7QAAOGewGbM7IsbgKtN7rRd-t0ITsPvx4_wGDM9ZaZrIYJ8DGTTdcn8sHielv_0bzg2idiy7cVcw01pTAgyguzn7iyqrspxvZo968jGg9wfJAMzlWVJqHDji7YK5lu93izGEOu5MAo6LBHhX_AZ7TUYTvHANGiblmnswV0P_Yht1F_dyhFpitdUFLgdhHAMN2jZe3TAz5BJ9FK-PzzOwA9UFupnuEK7qQ/file\n",
      "Reusing existing connection to uce36de57a25faafb038bd1e1d77.dl.dropboxusercontent.com:443.\n",
      "HTTP request sent, awaiting response... 200 OK\n",
      "Length: 10550407 (10M) [application/pdf]\n",
      "Saving to: ‘./san_francisco_budget_2023.pdf’\n",
      "\n",
      "./san_francisco_bud 100%[===================>]  10.06M  24.1MB/s    in 0.4s    \n",
      "\n",
      "2024-12-04 13:56:38 (24.1 MB/s) - ‘./san_francisco_budget_2023.pdf’ saved [10550407/10550407]\n",
      "\n"
     ]
    }
   ],
   "source": [
    "!wget 'https://www.dropbox.com/scl/fi/vip161t63s56vd94neqlt/2023-CSF_Proposed_Budget_Book_June_2023_Master_Web.pdf?rlkey=hemoce3w1jsuf6s2bz87g549i&dl=0' -O './san_francisco_budget_2023.pdf'"
   ]
  },
  {
   "cell_type": "markdown",
   "id": "c2f42af8-afb3-4b3b-82d3-6b332fb38aa4",
   "metadata": {},
   "source": [
    "## Using LlamaParse in JSON Mode for PDF Reading\n",
    "\n",
    "Let's parse our document! We're using Premium mode to get all the bells and whistles, so this takes a while the first time."
   ]
  },
  {
   "cell_type": "code",
   "execution_count": null,
   "id": "9c9cd670-8229-4ad6-99a9-845bd82b7ec1",
   "metadata": {},
   "outputs": [
    {
     "name": "stdout",
     "output_type": "stream",
     "text": [
      "Started parsing the file under job_id 32778fb0-9e83-4b00-aebe-0d7f59ff0b5f\n"
     ]
    }
   ],
   "source": [
    "from llama_parse import LlamaParse\n",
    "\n",
    "parser = LlamaParse(verbose=True, premium_mode=True)\n",
    "json_objs = parser.get_json_result(\"./san_francisco_budget_2023.pdf\")"
   ]
  },
  {
   "cell_type": "markdown",
   "id": "11c22bab",
   "metadata": {},
   "source": [
    "Let's see what we got:"
   ]
  },
  {
   "cell_type": "code",
   "execution_count": null,
   "id": "c588c578",
   "metadata": {},
   "outputs": [
    {
     "name": "stdout",
     "output_type": "stream",
     "text": [
      "['pages', 'job_metadata', 'job_id', 'file_path']\n"
     ]
    }
   ],
   "source": [
    "import json\n",
    "\n",
    "print(list(json_objs[0].keys()))"
   ]
  },
  {
   "cell_type": "markdown",
   "id": "6543d2c6",
   "metadata": {},
   "source": [
    "Let's take a look at the metadata first:"
   ]
  },
  {
   "cell_type": "code",
   "execution_count": null,
   "id": "f8845fac",
   "metadata": {},
   "outputs": [
    {
     "name": "stdout",
     "output_type": "stream",
     "text": [
      "{\n",
      "  \"credits_used\": 5430.0,\n",
      "  \"job_credits_usage\": 0,\n",
      "  \"job_pages\": 0,\n",
      "  \"job_auto_mode_triggered_pages\": 0,\n",
      "  \"job_is_cache_hit\": true\n",
      "}\n"
     ]
    }
   ],
   "source": [
    "pages = json_objs[0][\"pages\"]\n",
    "metadata = json_objs[0][\"job_metadata\"]\n",
    "\n",
    "print(json.dumps(metadata, indent=2))"
   ]
  },
  {
   "cell_type": "markdown",
   "id": "32de4c62",
   "metadata": {},
   "source": [
    "This was a cache hit (I re-ran this notebook while writing it), so we can see how many credits were used to parse this initially, and also that no credits were used for a cache hit. The cache lasts 48 hours.\n",
    "\n",
    "Now let's take a look at the real meat of the document. How many pages did we get?\n"
   ]
  },
  {
   "cell_type": "code",
   "execution_count": null,
   "id": "6eca0253",
   "metadata": {},
   "outputs": [
    {
     "name": "stdout",
     "output_type": "stream",
     "text": [
      "362\n"
     ]
    }
   ],
   "source": [
    "print(len(pages))"
   ]
  },
  {
   "cell_type": "markdown",
   "id": "f50e4d1d",
   "metadata": {},
   "source": [
    "That's a lot! Let's look at the very first page, which we know looks like this:\n",
    "\n",
    "<img src=\"./json_tour_screenshots/page_1.png\" alt=\"Page 1\" width=\"300\"/>\n"
   ]
  },
  {
   "cell_type": "code",
   "execution_count": null,
   "id": "c0354ba7",
   "metadata": {},
   "outputs": [
    {
     "name": "stdout",
     "output_type": "stream",
     "text": [
      "['page', 'text', 'md', 'images', 'charts', 'items', 'status', 'links', 'width', 'height', 'triggeredAutoMode', 'structuredData', 'noStructuredContent', 'noTextContent']\n"
     ]
    }
   ],
   "source": [
    "print(list(pages[0].keys()))"
   ]
  },
  {
   "cell_type": "markdown",
   "id": "74db4b22",
   "metadata": {},
   "source": [
    "We get a long list of properties in JSON mode. In this tour we're going to touch on them all!"
   ]
  },
  {
   "cell_type": "markdown",
   "id": "7de23dd6",
   "metadata": {},
   "source": [
    "## Basic properties\n",
    "\n",
    "Let's get the easy to explain properties out of the way first.\n",
    "\n",
    "* `page`: this is simply the page number, starting at 1.\n",
    "* `status`: this is the status of the page, which is usually \"OK\" unless there was an error processing the page.\n",
    "* `width` and `height`: these are the dimensions of the page in pixels.\n",
    "* `triggeredAutoMode`: this indicates whether the page triggered auto mode; see [LlamaParse docs](https://docs.cloud.llamaindex.ai/llamaparse/getting_started) for more details.\n",
    "* `structuredData`/`noStructuredContent`: these are set if you are using structured mode; see [LlamaParse docs](https://docs.cloud.llamaindex.ai/llamaparse/getting_started) for more details.\n",
    "* `noTextContent`: this is true if the page was empty of text.\n",
    "\n",
    "Now let's take a closer look at the more complex properties.\n"
   ]
  },
  {
   "cell_type": "markdown",
   "id": "b48969e1",
   "metadata": {},
   "source": [
    "### `text`"
   ]
  },
  {
   "cell_type": "code",
   "execution_count": null,
   "id": "d236a255",
   "metadata": {},
   "outputs": [
    {
     "name": "stdout",
     "output_type": "stream",
     "text": [
      "                    CITY & COUNTY OF SAN FRANCISCO, CALIFORNIA\n",
      "\n",
      "\n",
      "\n",
      "PROPOSED BUDGETFISCAL YEARS 2023-2024 & 2024-2025\n",
      "\n",
      "\n",
      "\n",
      "                   LONDON N. BREED\n",
      "                                  6 ANDCOUNTY g\n",
      "                             1                                    23\n",
      "                                o TVTS EngueRRAODSIOAVFierrO\n",
      "            MAYOR’S OFFICE OF PUBLIC POLICY AND FINANCE\n",
      "       Anna Duning, Director of Mayor’s                          Fisher Zhu, Fiscal and Policy Analyst\n",
      "       Office of Public Policy and Finance                     Anya Shutovska, Fiscal and Policy Analyst\n",
      "       Sally Ma, Deputy Budget Director\n",
      "Radhika Mehlotra, Senior Fiscal and Policy Analyst               Jack English, Fiscal and Policy Analyst\n",
      "    Damon Daniels, Fiscal and Policy Analyst                   Xang Hang, Junior Fiscal and Policy Analyst\n",
      "   Matthew Puckett, Fiscal and Policy Analyst               Tabitha Romero-Bothi, Fiscal and Policy Assistant\n"
     ]
    }
   ],
   "source": [
    "print(pages[0][\"text\"])"
   ]
  },
  {
   "cell_type": "markdown",
   "id": "30bbd2a4",
   "metadata": {},
   "source": [
    "As you can see, this is a laid-out plain text version of all the text LlamaParse was able to extract from the page. On a page that is mostly text this is often sufficient! But you can see on this page, with a complex layout with images, that it has some limitations. The text \"and county\" has been extracted from the seal of the city, as has some of the motto. We'll see later how we can use other structures provided to get around this."
   ]
  },
  {
   "cell_type": "markdown",
   "id": "35008970",
   "metadata": {},
   "source": [
    "### `md`"
   ]
  },
  {
   "cell_type": "code",
   "execution_count": null,
   "id": "63d2df6f",
   "metadata": {},
   "outputs": [
    {
     "name": "stdout",
     "output_type": "stream",
     "text": [
      "CITY & COUNTY OF SAN FRANCISCO, CALIFORNIA\n",
      "\n",
      "# PROPOSED BUDGET\n",
      "\n",
      "FISCAL YEARS 2023-2024 & 2024-2025\n",
      "\n",
      "## LONDON N. BREED\n",
      "\n",
      "[A circular seal of the City and County of San Francisco is displayed]\n",
      "\n",
      "### MAYOR'S OFFICE OF PUBLIC POLICY AND FINANCE\n",
      "\n",
      "| Position | Name |\n",
      "|----------|------|\n",
      "| Director of Mayor's Office of Public Policy and Finance | Anna Duning |\n",
      "| Deputy Budget Director | Sally Ma |\n",
      "| Senior Fiscal and Policy Analyst | Radhika Mehlotra |\n",
      "| Fiscal and Policy Analyst | Damon Daniels |\n",
      "| Fiscal and Policy Analyst | Matthew Puckett |\n",
      "| Fiscal and Policy Analyst | Fisher Zhu |\n",
      "| Fiscal and Policy Analyst | Anya Shutovska |\n",
      "| Fiscal and Policy Analyst | Jack English |\n",
      "| Junior Fiscal and Policy Analyst | Xang Hang |\n",
      "| Fiscal and Policy Assistant | Tabitha Romero-Bothi |\n"
     ]
    }
   ],
   "source": [
    "print(pages[0][\"md\"])"
   ]
  },
  {
   "cell_type": "markdown",
   "id": "a8a318cc",
   "metadata": {},
   "source": [
    "`md` is a Markdown representation of the page, and it has been parsed with more sophistication. Images have been accounted for: you get a description of the image instead of partial OCR from the image text. The table of authors has also been rendered as a markdown table. This renders visually quite nicely:"
   ]
  },
  {
   "cell_type": "markdown",
   "id": "ec0ebbb3",
   "metadata": {},
   "source": [
    "CITY & COUNTY OF SAN FRANCISCO, CALIFORNIA\n",
    "\n",
    "# PROPOSED BUDGET\n",
    "\n",
    "FISCAL YEARS 2023-2024 & 2024-2025\n",
    "\n",
    "## LONDON N. BREED\n",
    "\n",
    "[A circular seal of the City and County of San Francisco is displayed]\n",
    "\n",
    "### MAYOR'S OFFICE OF PUBLIC POLICY AND FINANCE\n",
    "\n",
    "| Position | Name |\n",
    "|----------|------|\n",
    "| Director of Mayor's Office of Public Policy and Finance | Anna Duning |\n",
    "| Deputy Budget Director | Sally Ma |\n",
    "| Senior Fiscal and Policy Analyst | Radhika Mehlotra |\n",
    "| Fiscal and Policy Analyst | Damon Daniels |\n",
    "| Fiscal and Policy Analyst | Matthew Puckett |\n",
    "| Fiscal and Policy Analyst | Fisher Zhu |\n",
    "| Fiscal and Policy Analyst | Anya Shutovska |\n",
    "| Fiscal and Policy Analyst | Jack English |\n",
    "| Junior Fiscal and Policy Analyst | Xang Hang |\n",
    "| Fiscal and Policy Assistant | Tabitha Romero-Bothi |"
   ]
  },
  {
   "cell_type": "markdown",
   "id": "22524c85",
   "metadata": {},
   "source": [
    "## `images`\n",
    "\n",
    "This is an array of all the images on the page, including metadata and text OCRed out of the images, as well as a full-page screenshot of the entire page. Let's take a look at the first image (we're going to skip the `ocr` key for now because it's very large):\n"
   ]
  },
  {
   "cell_type": "code",
   "execution_count": null,
   "id": "0975cbc4",
   "metadata": {},
   "outputs": [
    {
     "name": "stdout",
     "output_type": "stream",
     "text": [
      "{\n",
      "  \"name\": \"img_p0_1.png\",\n",
      "  \"height\": 393,\n",
      "  \"width\": 396,\n",
      "  \"x\": 217.1828461,\n",
      "  \"y\": 347.84094239999996,\n",
      "  \"original_width\": 396,\n",
      "  \"original_height\": 393\n",
      "}\n"
     ]
    }
   ],
   "source": [
    "image_data = pages[0][\"images\"][0].copy()\n",
    "del image_data[\"ocr\"]\n",
    "print(json.dumps(image_data, indent=2))"
   ]
  },
  {
   "cell_type": "markdown",
   "id": "ff23903e",
   "metadata": {},
   "source": [
    "These fields are hopefully self-explanatory. Let's take a look at `img_p0_1.png` by getting the SDK to download the images for us."
   ]
  },
  {
   "cell_type": "code",
   "execution_count": null,
   "id": "908e1cfd",
   "metadata": {},
   "outputs": [
    {
     "name": "stdout",
     "output_type": "stream",
     "text": [
      "> Image for page 1: [{'name': 'img_p0_1.png', 'height': 393, 'width': 396, 'x': 217.1828461, 'y': 347.84094239999996, 'original_width': 396, 'original_height': 393, 'ocr': [{'x': 349, 'y': 197, 'w': 38, 'h': 62, 'confidence': '0.8849547199866379', 'text': '3'}, {'x': 30, 'y': 264, 'w': 50, 'h': 58, 'confidence': '0.5020322574275724', 'text': 'o'}, {'x': 229, 'y': 297, 'w': 52, 'h': 18, 'confidence': '0.2651256745127598', 'text': 'FierrO'}, {'x': 169, 'y': 313, 'w': 78, 'h': 18, 'confidence': '0.41575810326364837', 'text': 'EngueRRA'}, {'x': 155, 'y': -5, 'w': 155, 'h': 82, 'confidence': '0.9739526858073052', 'text': 'COUNTY'}, {'x': 51, 'y': 57, 'w': 104, 'h': 6, 'confidence': '0.9999688909318631', 'text': 'AND'}, {'x': 301, 'y': 74, 'w': 63, 'h': 36, 'confidence': '0.6971765886842753', 'text': 'g'}, {'x': 42, 'y': 67, 'w': 2, 'h': 118, 'confidence': '0.266282299733124', 'text': '6'}, {'x': 339, 'y': 116, 'w': 48, 'h': 81, 'confidence': '0.9965592468417981', 'text': '2'}, {'x': 2, 'y': 177, 'w': 51, 'h': 89, 'confidence': '0.1407344777786088', 'text': '1'}, {'x': 219, 'y': 352, 'w': 171, 'h': 66, 'confidence': '0.26038717551416235', 'text': 'ODSIOAV'}, {'x': 84, 'y': 303, 'w': 76, 'h': 89, 'confidence': '0.39627864956855774', 'text': 'TVTS'}], 'path': './json_tour_screenshots/32778fb0-9e83-4b00-aebe-0d7f59ff0b5f-img_p0_1.png', 'job_id': '32778fb0-9e83-4b00-aebe-0d7f59ff0b5f', 'original_file_path': './san_francisco_budget_2023.pdf', 'page_number': 1}, {'name': 'page_1.jpg', 'height': 792, 'width': 612, 'x': 0, 'y': 0, 'type': 'full_page_screenshot', 'path': './json_tour_screenshots/32778fb0-9e83-4b00-aebe-0d7f59ff0b5f-page_1.jpg', 'job_id': '32778fb0-9e83-4b00-aebe-0d7f59ff0b5f', 'original_file_path': './san_francisco_budget_2023.pdf', 'page_number': 1}]\n",
      "img_p0_1.png\n",
      "./json_tour_screenshots/32778fb0-9e83-4b00-aebe-0d7f59ff0b5f-img_p0_1.png\n"
     ]
    }
   ],
   "source": [
    "# Make a copy of json_objs with only the first page to avoid downloading all the images\n",
    "first_page_json = json_objs.copy()\n",
    "first_page_json[0][\"pages\"] = [first_page_json[0][\"pages\"][0]]  # Keep only first page\n",
    "\n",
    "# get the SDK to download all the images to a local directory for us\n",
    "images = parser.get_images(first_page_json, download_path=\"./json_tour_screenshots\")\n",
    "\n",
    "print(images[0][\"path\"])"
   ]
  },
  {
   "cell_type": "markdown",
   "id": "3790d770",
   "metadata": {},
   "source": [
    "![](./json_tour_screenshots/32778fb0-9e83-4b00-aebe-0d7f59ff0b5f-img_p0_1.png)"
   ]
  },
  {
   "cell_type": "markdown",
   "id": "4d9442ce",
   "metadata": {},
   "source": [
    "The image has been accurately identified and extracted from the page. Let's take a look at that length `ocr` field now:"
   ]
  },
  {
   "cell_type": "code",
   "execution_count": null,
   "id": "b8daf90d",
   "metadata": {},
   "outputs": [
    {
     "name": "stdout",
     "output_type": "stream",
     "text": [
      "[\n",
      "  {\n",
      "    \"x\": 349,\n",
      "    \"y\": 197,\n",
      "    \"w\": 38,\n",
      "    \"h\": 62,\n",
      "    \"confidence\": \"0.8849547199866379\",\n",
      "    \"text\": \"3\"\n",
      "  },\n",
      "  {\n",
      "    \"x\": 30,\n",
      "    \"y\": 264,\n",
      "    \"w\": 50,\n",
      "    \"h\": 58,\n",
      "    \"confidence\": \"0.5020322574275724\",\n",
      "    \"text\": \"o\"\n",
      "  },\n",
      "  {\n",
      "    \"x\": 229,\n",
      "    \"y\": 297,\n",
      "    \"w\": 52,\n",
      "    \"h\": 18,\n",
      "    \"confidence\": \"0.2651256745127598\",\n",
      "    \"text\": \"FierrO\"\n",
      "  },\n",
      "  {\n",
      "    \"x\": 169,\n",
      "    \"y\": 313,\n",
      "    \"w\": 78,\n",
      "    \"h\": 18,\n",
      "    \"confidence\": \"0.41575810326364837\",\n",
      "    \"text\": \"EngueRRA\"\n",
      "  },\n",
      "  {\n",
      "    \"x\": 155,\n",
      "    \"y\": -5,\n",
      "    \"w\": 155,\n",
      "    \"h\": 82,\n",
      "    \"confidence\": \"0.9739526858073052\",\n",
      "    \"text\": \"COUNTY\"\n",
      "  },\n",
      "  {\n",
      "    \"x\": 51,\n",
      "    \"y\": 57,\n",
      "    \"w\": 104,\n",
      "    \"h\": 6,\n",
      "    \"confidence\": \"0.9999688909318631\",\n",
      "    \"text\": \"AND\"\n",
      "  },\n",
      "  {\n",
      "    \"x\": 301,\n",
      "    \"y\": 74,\n",
      "    \"w\": 63,\n",
      "    \"h\": 36,\n",
      "    \"confidence\": \"0.6971765886842753\",\n",
      "    \"text\": \"g\"\n",
      "  },\n",
      "  {\n",
      "    \"x\": 42,\n",
      "    \"y\": 67,\n",
      "    \"w\": 2,\n",
      "    \"h\": 118,\n",
      "    \"confidence\": \"0.266282299733124\",\n",
      "    \"text\": \"6\"\n",
      "  },\n",
      "  {\n",
      "    \"x\": 339,\n",
      "    \"y\": 116,\n",
      "    \"w\": 48,\n",
      "    \"h\": 81,\n",
      "    \"confidence\": \"0.9965592468417981\",\n",
      "    \"text\": \"2\"\n",
      "  },\n",
      "  {\n",
      "    \"x\": 2,\n",
      "    \"y\": 177,\n",
      "    \"w\": 51,\n",
      "    \"h\": 89,\n",
      "    \"confidence\": \"0.1407344777786088\",\n",
      "    \"text\": \"1\"\n",
      "  },\n",
      "  {\n",
      "    \"x\": 219,\n",
      "    \"y\": 352,\n",
      "    \"w\": 171,\n",
      "    \"h\": 66,\n",
      "    \"confidence\": \"0.26038717551416235\",\n",
      "    \"text\": \"ODSIOAV\"\n",
      "  },\n",
      "  {\n",
      "    \"x\": 84,\n",
      "    \"y\": 303,\n",
      "    \"w\": 76,\n",
      "    \"h\": 89,\n",
      "    \"confidence\": \"0.39627864956855774\",\n",
      "    \"text\": \"TVTS\"\n",
      "  }\n",
      "]\n"
     ]
    }
   ],
   "source": [
    "print(json.dumps(pages[0][\"images\"][0][\"ocr\"], indent=2))"
   ]
  },
  {
   "cell_type": "markdown",
   "id": "c07f5737",
   "metadata": {},
   "source": [
    "In this example, the OCR has attempted to extract text from the image of the seal and been foiled by text that is small and curved. This is very tricky text! For each chunk of text extracted, you get the approximate size and location of the text, as well as a confidence score of how well the text was extracted.\n"
   ]
  },
  {
   "cell_type": "markdown",
   "id": "eae4ece3",
   "metadata": {},
   "source": [
    "### `items`\n",
    "\n",
    "This is the most valuable and complex property of JSON mode. This is an array of all the parsed elements on the page, as used to render the markdown, but separated out into their own objects. This is useful if you want to do more processing on the data. Let's take a look:"
   ]
  },
  {
   "cell_type": "code",
   "execution_count": null,
   "id": "c10b9d7d",
   "metadata": {},
   "outputs": [
    {
     "name": "stdout",
     "output_type": "stream",
     "text": [
      "[\n",
      "  {\n",
      "    \"type\": \"text\",\n",
      "    \"value\": \"CITY & COUNTY OF SAN FRANCISCO, CALIFORNIA\",\n",
      "    \"md\": \"CITY & COUNTY OF SAN FRANCISCO, CALIFORNIA\",\n",
      "    \"bBox\": {\n",
      "      \"x\": 176,\n",
      "      \"y\": 64,\n",
      "      \"w\": 276.2,\n",
      "      \"h\": 12\n",
      "    }\n",
      "  },\n",
      "  {\n",
      "    \"type\": \"heading\",\n",
      "    \"lvl\": 1,\n",
      "    \"value\": \"PROPOSED BUDGET\",\n",
      "    \"md\": \"# PROPOSED BUDGET\",\n",
      "    \"bBox\": {\n",
      "      \"x\": 89,\n",
      "      \"y\": 165,\n",
      "      \"w\": 450.97,\n",
      "      \"h\": 47\n",
      "    }\n",
      "  },\n",
      "  {\n",
      "    \"type\": \"text\",\n",
      "    \"value\": \"FISCAL YEARS 2023-2024 & 2024-2025\",\n",
      "    \"md\": \"FISCAL YEARS 2023-2024 & 2024-2025\",\n",
      "    \"bBox\": {\n",
      "      \"x\": 170,\n",
      "      \"y\": 204,\n",
      "      \"w\": 288.41,\n",
      "      \"h\": 268.16\n",
      "    }\n",
      "  },\n",
      "  {\n",
      "    \"type\": \"heading\",\n",
      "    \"lvl\": 2,\n",
      "    \"value\": \"LONDON N. BREED\",\n",
      "    \"md\": \"## LONDON N. BREED\",\n",
      "    \"bBox\": {\n",
      "      \"x\": 171,\n",
      "      \"y\": 292,\n",
      "      \"w\": 285.94,\n",
      "      \"h\": 31\n",
      "    }\n",
      "  },\n",
      "  {\n",
      "    \"type\": \"text\",\n",
      "    \"value\": \"[A circular seal of the City and County of San Francisco is displayed]\",\n",
      "    \"md\": \"[A circular seal of the City and County of San Francisco is displayed]\",\n",
      "    \"bBox\": {\n",
      "      \"x\": 241.64,\n",
      "      \"y\": 375.2,\n",
      "      \"w\": 49.87,\n",
      "      \"h\": 2.88\n",
      "    }\n",
      "  },\n",
      "  {\n",
      "    \"type\": \"heading\",\n",
      "    \"lvl\": 3,\n",
      "    \"value\": \"MAYOR'S OFFICE OF PUBLIC POLICY AND FINANCE\",\n",
      "    \"md\": \"### MAYOR'S OFFICE OF PUBLIC POLICY AND FINANCE\",\n",
      "    \"bBox\": {\n",
      "      \"x\": 118,\n",
      "      \"y\": 375.2,\n",
      "      \"w\": 173.5,\n",
      "      \"h\": 287.8\n",
      "    }\n",
      "  },\n",
      "  {\n",
      "    \"type\": \"table\",\n",
      "    \"rows\": [\n",
      "      [\n",
      "        \"Position\",\n",
      "        \"Name\"\n",
      "      ],\n",
      "      [\n",
      "        \"Director of Mayor's Office of Public Policy and Finance\",\n",
      "        \"Anna Duning\"\n",
      "      ],\n",
      "      [\n",
      "        \"Deputy Budget Director\",\n",
      "        \"Sally Ma\"\n",
      "      ],\n",
      "      [\n",
      "        \"Senior Fiscal and Policy Analyst\",\n",
      "        \"Radhika Mehlotra\"\n",
      "      ],\n",
      "      [\n",
      "        \"Fiscal and Policy Analyst\",\n",
      "        \"Damon Daniels\"\n",
      "      ],\n",
      "      [\n",
      "        \"Fiscal and Policy Analyst\",\n",
      "        \"Matthew Puckett\"\n",
      "      ],\n",
      "      [\n",
      "        \"Fiscal and Policy Analyst\",\n",
      "        \"Fisher Zhu\"\n",
      "      ],\n",
      "      [\n",
      "        \"Fiscal and Policy Analyst\",\n",
      "        \"Anya Shutovska\"\n",
      "      ],\n",
      "      [\n",
      "        \"Fiscal and Policy Analyst\",\n",
      "        \"Jack English\"\n",
      "      ],\n",
      "      [\n",
      "        \"Junior Fiscal and Policy Analyst\",\n",
      "        \"Xang Hang\"\n",
      "      ],\n",
      "      [\n",
      "        \"Fiscal and Policy Assistant\",\n",
      "        \"Tabitha Romero-Bothi\"\n",
      "      ]\n",
      "    ],\n",
      "    \"md\": \"| Position | Name |\\n|----------|------|\\n| Director of Mayor's Office of Public Policy and Finance | Anna Duning |\\n| Deputy Budget Director | Sally Ma |\\n| Senior Fiscal and Policy Analyst | Radhika Mehlotra |\\n| Fiscal and Policy Analyst | Damon Daniels |\\n| Fiscal and Policy Analyst | Matthew Puckett |\\n| Fiscal and Policy Analyst | Fisher Zhu |\\n| Fiscal and Policy Analyst | Anya Shutovska |\\n| Fiscal and Policy Analyst | Jack English |\\n| Junior Fiscal and Policy Analyst | Xang Hang |\\n| Fiscal and Policy Assistant | Tabitha Romero-Bothi |\",\n",
      "    \"isPerfectTable\": true,\n",
      "    \"csv\": \"\\\"Position\\\",\\\"Name\\\"\\n\\\"Director of Mayor's Office of Public Policy and Finance\\\",\\\"Anna Duning\\\"\\n\\\"Deputy Budget Director\\\",\\\"Sally Ma\\\"\\n\\\"Senior Fiscal and Policy Analyst\\\",\\\"Radhika Mehlotra\\\"\\n\\\"Fiscal and Policy Analyst\\\",\\\"Damon Daniels\\\"\\n\\\"Fiscal and Policy Analyst\\\",\\\"Matthew Puckett\\\"\\n\\\"Fiscal and Policy Analyst\\\",\\\"Fisher Zhu\\\"\\n\\\"Fiscal and Policy Analyst\\\",\\\"Anya Shutovska\\\"\\n\\\"Fiscal and Policy Analyst\\\",\\\"Jack English\\\"\\n\\\"Junior Fiscal and Policy Analyst\\\",\\\"Xang Hang\\\"\\n\\\"Fiscal and Policy Assistant\\\",\\\"Tabitha Romero-Bothi\\\"\",\n",
      "    \"bBox\": {\n",
      "      \"x\": 118,\n",
      "      \"y\": 375.2,\n",
      "      \"w\": 173.5,\n",
      "      \"h\": 287.8\n",
      "    }\n",
      "  }\n",
      "]\n"
     ]
    }
   ],
   "source": [
    "print(json.dumps(pages[0][\"items\"], indent=2))"
   ]
  },
  {
   "cell_type": "markdown",
   "id": "a7f64443",
   "metadata": {},
   "source": [
    "As you can see you get different element types: text, headings, and tables. Each comes with its own `md` key containing a Markdown representation of that element, allowing you to easily summarize with only headings, tables only, etc..\n",
    "\n",
    "The ability to extract tables from visual data is really powerful. Let's take a look at page 35, which has some bar charts that get automatically converted into tables:\n",
    "\n",
    "<img src=\"./json_tour_screenshots/page_35.png\" alt=\"Page 35\" width=\"300\"/>\n"
   ]
  },
  {
   "cell_type": "markdown",
   "id": "e4ccee76",
   "metadata": {},
   "source": [
    "The bar chart has been converted into a table, and even though explicit values are not included, the bar chart has been read and approximate values for each bar on the chart have been included!"
   ]
  },
  {
   "cell_type": "code",
   "execution_count": null,
   "id": "7d6404a5",
   "metadata": {},
   "outputs": [
    {
     "name": "stdout",
     "output_type": "stream",
     "text": [
      "{\n",
      "  \"type\": \"table\",\n",
      "  \"rows\": [\n",
      "    [\n",
      "      \"Age Group\",\n",
      "      \"Number of Residents\"\n",
      "    ],\n",
      "    [\n",
      "      \"Under 5 Years\",\n",
      "      \"~50,000\"\n",
      "    ],\n",
      "    [\n",
      "      \"5 to 19 Years\",\n",
      "      \"~100,000\"\n",
      "    ],\n",
      "    [\n",
      "      \"20 to 34 Years\",\n",
      "      \"~250,000\"\n",
      "    ],\n",
      "    [\n",
      "      \"35 to 59 Years\",\n",
      "      \"~300,000\"\n",
      "    ],\n",
      "    [\n",
      "      \"60 and Over\",\n",
      "      \"~200,000\"\n",
      "    ]\n",
      "  ],\n",
      "  \"md\": \"| Age Group | Number of Residents |\\n|-----------|---------------------|\\n| Under 5 Years | ~50,000 |\\n| 5 to 19 Years | ~100,000 |\\n| 20 to 34 Years | ~250,000 |\\n| 35 to 59 Years | ~300,000 |\\n| 60 and Over | ~200,000 |\",\n",
      "  \"isPerfectTable\": true,\n",
      "  \"csv\": \"\\\"Age Group\\\",\\\"Number of Residents\\\"\\n\\\"Under 5 Years\\\",\\\"~50,000\\\"\\n\\\"5 to 19 Years\\\",\\\"~100,000\\\"\\n\\\"20 to 34 Years\\\",\\\"~250,000\\\"\\n\\\"35 to 59 Years\\\",\\\"~300,000\\\"\\n\\\"60 and Over\\\",\\\"~200,000\\\"\",\n",
      "  \"bBox\": {\n",
      "    \"x\": null,\n",
      "    \"y\": 88,\n",
      "    \"w\": null,\n",
      "    \"h\": 693\n",
      "  }\n",
      "}\n"
     ]
    }
   ],
   "source": [
    "print(json.dumps(pages[34][\"items\"][2], indent=2))"
   ]
  },
  {
   "cell_type": "markdown",
   "id": "9570d3b8",
   "metadata": {},
   "source": [
    "### `links`\n",
    "\n",
    "Our budget PDF doesn't have any links, so let's load a different PDF with links and see what we get.\n"
   ]
  },
  {
   "cell_type": "code",
   "execution_count": null,
   "id": "fb0da11a",
   "metadata": {},
   "outputs": [
    {
     "name": "stdout",
     "output_type": "stream",
     "text": [
      "--2024-12-04 16:28:51--  https://www.dropbox.com/scl/fi/hay06lyxc49gkuh91oek6/basic-link-1.pdf?rlkey=uije7yb0lxqgqwk7p7hnqepdx&dl=0\n",
      "Resolving www.dropbox.com (www.dropbox.com)... 162.125.13.18\n",
      "Connecting to www.dropbox.com (www.dropbox.com)|162.125.13.18|:443... connected.\n",
      "HTTP request sent, awaiting response... 302 Found\n",
      "Location: https://uc033fcc12352d23d9c3c9c49318.dl.dropboxusercontent.com/cd/0/inline/CfqXlto8B1pWMrE3JMODpdWurfIpVBvY0azNyYAAJ7xz5MlxWIMLd8KvNLioNbwT8ZIg8tc86XNB6QhMemTyXfxeCmuL1-GsA1HOFYqcdeItJAEIIFBWIoDyKeJQWU8lHt4/file# [following]\n",
      "--2024-12-04 16:28:51--  https://uc033fcc12352d23d9c3c9c49318.dl.dropboxusercontent.com/cd/0/inline/CfqXlto8B1pWMrE3JMODpdWurfIpVBvY0azNyYAAJ7xz5MlxWIMLd8KvNLioNbwT8ZIg8tc86XNB6QhMemTyXfxeCmuL1-GsA1HOFYqcdeItJAEIIFBWIoDyKeJQWU8lHt4/file\n",
      "Resolving uc033fcc12352d23d9c3c9c49318.dl.dropboxusercontent.com (uc033fcc12352d23d9c3c9c49318.dl.dropboxusercontent.com)... 162.125.13.15\n",
      "Connecting to uc033fcc12352d23d9c3c9c49318.dl.dropboxusercontent.com (uc033fcc12352d23d9c3c9c49318.dl.dropboxusercontent.com)|162.125.13.15|:443... connected.\n",
      "HTTP request sent, awaiting response... 302 Found\n",
      "Location: /cd/0/inline2/CfqIXbvcnnW2Ms436TpWrbzm1NyTWUs2begumrxZ1LCPEtV5X9Mrnfv16WwI7mutytWbdfDsbPS6r6hYS___Gkf-awmzdbZH7sDx5IsnViosyz4Sk1sc7rJibddjWFQyWtuXgsEdXWW9jkNhu4MEVTUx9q3ZM8SRYbLaAjccxvj7uVAsojTbZubG8etvRpeEy5r7nmMeXFvYuF24nvUB27p8-D2wLUsHXvPdp664hY8qnR7DGakuLULwpEextbQGZioKfrmIwhW4Klz6-4aDYPoM8vz8qksRO-cSivV9nQf8tvV71tlTibvBvQTwkD4m9CKQAXnN_fv7hvaXGu9YZftJYts_Juj0FHGlf2SzHtAZ9g/file [following]\n",
      "--2024-12-04 16:28:52--  https://uc033fcc12352d23d9c3c9c49318.dl.dropboxusercontent.com/cd/0/inline2/CfqIXbvcnnW2Ms436TpWrbzm1NyTWUs2begumrxZ1LCPEtV5X9Mrnfv16WwI7mutytWbdfDsbPS6r6hYS___Gkf-awmzdbZH7sDx5IsnViosyz4Sk1sc7rJibddjWFQyWtuXgsEdXWW9jkNhu4MEVTUx9q3ZM8SRYbLaAjccxvj7uVAsojTbZubG8etvRpeEy5r7nmMeXFvYuF24nvUB27p8-D2wLUsHXvPdp664hY8qnR7DGakuLULwpEextbQGZioKfrmIwhW4Klz6-4aDYPoM8vz8qksRO-cSivV9nQf8tvV71tlTibvBvQTwkD4m9CKQAXnN_fv7hvaXGu9YZftJYts_Juj0FHGlf2SzHtAZ9g/file\n",
      "Reusing existing connection to uc033fcc12352d23d9c3c9c49318.dl.dropboxusercontent.com:443.\n",
      "HTTP request sent, awaiting response... 200 OK\n",
      "Length: 103255 (101K) [application/pdf]\n",
      "Saving to: ‘./basic-link-1.pdf’\n",
      "\n",
      "./basic-link-1.pdf  100%[===================>] 100.83K  --.-KB/s    in 0.08s   \n",
      "\n",
      "2024-12-04 16:28:52 (1.21 MB/s) - ‘./basic-link-1.pdf’ saved [103255/103255]\n",
      "\n"
     ]
    }
   ],
   "source": [
    "!wget 'https://www.dropbox.com/scl/fi/hay06lyxc49gkuh91oek6/basic-link-1.pdf?rlkey=uije7yb0lxqgqwk7p7hnqepdx&dl=0' -O './basic-link-1.pdf'"
   ]
  },
  {
   "cell_type": "code",
   "execution_count": null,
   "id": "e7e393e6",
   "metadata": {},
   "outputs": [
    {
     "name": "stdout",
     "output_type": "stream",
     "text": [
      "Started parsing the file under job_id 8859f204-a3b5-49f8-b254-870be06cbfc2\n"
     ]
    }
   ],
   "source": [
    "link_parsed = parser.get_json_result(\"./basic-link-1.pdf\")"
   ]
  },
  {
   "cell_type": "markdown",
   "id": "701ada4b",
   "metadata": {},
   "source": [
    "This is a very simple document with some internal and external links:\n",
    "\n",
    "<img src=\"./json_tour_screenshots/links_page.png\" alt=\"Page 1\" width=\"300\"/>\n"
   ]
  },
  {
   "cell_type": "markdown",
   "id": "2e4de7de",
   "metadata": {},
   "source": [
    "The parser finds the external links and their labels and includes them in the `links` section:"
   ]
  },
  {
   "cell_type": "code",
   "execution_count": null,
   "id": "29bf7e3c",
   "metadata": {},
   "outputs": [
    {
     "name": "stdout",
     "output_type": "stream",
     "text": [
      "[\n",
      "  {\n",
      "    \"url\": \"https://www.antennahouse.com/\",\n",
      "    \"text\": \"Antenna House, Inc.\"\n",
      "  },\n",
      "  {\n",
      "    \"url\": \"https://www.antennahouse.com/\",\n",
      "    \"text\": \"Linking to a website (https://www.antennahouse.com/)\"\n",
      "  }\n",
      "]\n"
     ]
    }
   ],
   "source": [
    "link_page = link_parsed[0][\"pages\"][0]\n",
    "print(json.dumps(link_page[\"links\"], indent=2))"
   ]
  },
  {
   "cell_type": "markdown",
   "id": "ac9088a2",
   "metadata": {},
   "source": [
    "This concludes our tour! I hope this makes clear the power of JSON mode and the flexibility it gives you over what parts of your documents you can use."
   ]
  }
 ],
 "metadata": {
  "kernelspec": {
   "display_name": "Python 3 (ipykernel)",
   "language": "python",
   "name": "python3"
  },
  "language_info": {
   "codemirror_mode": {
    "name": "ipython",
    "version": 3
   },
   "file_extension": ".py",
   "mimetype": "text/x-python",
   "name": "python",
   "nbconvert_exporter": "python",
   "pygments_lexer": "ipython3"
  }
 },
 "nbformat": 4,
 "nbformat_minor": 5
}
