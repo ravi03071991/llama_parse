{
 "cells": [
  {
   "cell_type": "markdown",
   "metadata": {},
   "source": [
    "<a href=\"https://colab.research.google.com/github/run-llama/llama_parse/blob/main/examples/parsing_instructions.ipynb\" target=\"_parent\"><img src=\"https://colab.research.google.com/assets/colab-badge.svg\" alt=\"Open In Colab\"/></a>\n",
    "\n",
    "# Parsing documents with Instructions\n",
    "\n",
    "Parsing instructions allow you to guide our parsing model in the same way you would instruct an LLM.\n",
    "\n",
    "These instructions can be useful for improving the parser's performance on complex document layouts, extracting data in a specific format, or transforming the document in other ways.\n",
    "\n",
    "### Why This Matters:\n",
    "Traditional document parsing can be rigid and error-prone, often missing crucial context and nuances in complex layouts. Our instruction-based parsing allows you to:\n",
    "\n",
    "1. Extract specific information with pinpoint accuracy\n",
    "2. Handle complex document layouts with ease\n",
    "3. Transform unstructured data into structured formats effortlessly\n",
    "4. Save hours of manual data entry and verification\n",
    "5. Reduce errors in document processing workflows\n",
    "\n",
    "In this demonstration, we showcase how parsing instructions can be used to extract specific information from unstructured documents. Below are the documents we use for testing:\n",
    "\n",
    "1. McDonald's Receipt - Extracting the price of each order and the final amount to be paid.\n",
    "\n",
    "2. Expense Report Document - Extracting employee name, employee ID, position, department, date ranges, individual expense items with dates, categories, and amounts.\n",
    "\n",
    "3. Purchase Order Document - Identifying the PO number, vendor details, shipping terms, and an itemized list of products with quantities and unit prices.\n",
    "\n",
    "Let's jump into these real-world examples and see how parsing instructions can help us extract specific information."
   ]
  },
  {
   "cell_type": "markdown",
   "metadata": {},
   "source": [
    "### Installation"
   ]
  },
  {
   "cell_type": "code",
   "execution_count": null,
   "metadata": {},
   "outputs": [],
   "source": [
    "!pip install llama-parse"
   ]
  },
  {
   "cell_type": "markdown",
   "metadata": {},
   "source": [
    "### Setup API Key"
   ]
  },
  {
   "cell_type": "code",
   "execution_count": null,
   "metadata": {},
   "outputs": [],
   "source": [
    "import nest_asyncio\n",
    "\n",
    "nest_asyncio.apply()\n",
    "\n",
    "import os\n",
    "\n",
    "os.environ[\"LLAMA_CLOUD_API_KEY\"] = \"llx-...\""
   ]
  },
  {
   "cell_type": "markdown",
   "metadata": {},
   "source": [
    "### McDonald's Receipt\n",
    "\n",
    "Here we extract the price of each order and the final amount to be paid."
   ]
  },
  {
   "cell_type": "markdown",
   "metadata": {},
   "source": [
    "<img src=\"mcdonalds_receipt.png\" alt=\"Alt Text\" width=\"500\">"
   ]
  },
  {
   "cell_type": "code",
   "execution_count": null,
   "metadata": {},
   "outputs": [
    {
     "name": "stdout",
     "output_type": "stream",
     "text": [
      "Started parsing the file under job_id 66643b81-e2f4-408b-890b-8e116472210b\n"
     ]
    }
   ],
   "source": [
    "from llama_parse import LlamaParse\n",
    "\n",
    "vanilaParsing = LlamaParse(result_type=\"markdown\").load_data(\"./mcdonalds_receipt.png\")"
   ]
  },
  {
   "cell_type": "code",
   "execution_count": null,
   "metadata": {},
   "outputs": [
    {
     "name": "stdout",
     "output_type": "stream",
     "text": [
      "# Rate us HIGHLY SATISFIED\n",
      "\n",
      "Purchase any sandwich and receive a FREE ITEM\n",
      "\n",
      "Go to WWW.mcdvoice.com within 7 days of purchase of equal or lesser value and tell us about your visit.\n",
      "\n",
      "Validation Code: 31278-01121-21018-20481-00081-0\n",
      "\n",
      "Valid at participating US McDonald's\n",
      "\n",
      "Expires 30 days after receipt date\n",
      "\n",
      "# McDonald's Restaurant #312782378\n",
      "\n",
      "PINE RD NW\n",
      "\n",
      "RICE MN 56367-9740\n",
      "\n",
      "TEL# 320 393 4600\n",
      "\n",
      "KS# 12/08/2022 08:48 PM\n",
      "\n",
      "# Order\n",
      "\n",
      "|Happy Meal 6 Pc|$4.89|\n",
      "|---|---|\n",
      "|Creamy Ranch Cup| |\n",
      "|Extra Kids Fry| |\n",
      "|Wreck It Ralph 2 Snack| |\n",
      "|Oreo McFlurry|$2.69|\n",
      "\n",
      "# Summary\n",
      "\n",
      "|Subtotal|$7.58|\n",
      "|---|---|\n",
      "|Tax|$0.52|\n",
      "|Take-Out Total|$8.10|\n",
      "|Cash Tendered|$10.00|\n",
      "|Change|$1.90|\n",
      "\n",
      "### Not ACCEPTING APPLICATIONS *++ McDonald's Restaurant Rice\n",
      "\n",
      "Text to #36453 apply 31278\n"
     ]
    }
   ],
   "source": [
    "print(vanilaParsing[0].text)"
   ]
  },
  {
   "cell_type": "code",
   "execution_count": null,
   "metadata": {},
   "outputs": [
    {
     "name": "stdout",
     "output_type": "stream",
     "text": [
      "Started parsing the file under job_id 1a04fdbb-5415-4a36-a1bd-26bfb5d618fa\n"
     ]
    }
   ],
   "source": [
    "parsingInstruction = \"\"\"The provided document is a McDonald's receipt.\n",
    " Provide the price of each order and final amount to be paid.\"\"\"\n",
    "withInstructionParsing = LlamaParse(\n",
    "    result_type=\"markdown\", parsing_instruction=parsingInstruction\n",
    ").load_data(\"./mcdonalds_receipt.png\")"
   ]
  },
  {
   "cell_type": "code",
   "execution_count": null,
   "metadata": {},
   "outputs": [
    {
     "name": "stdout",
     "output_type": "stream",
     "text": [
      "Here are the prices for each order from the McDonald's receipt:\n",
      "\n",
      "1. Happy Meal 6 Pc: $4.89\n",
      "2. Snack Oreo McFlurry: $2.69\n",
      "\n",
      "**Subtotal:** $7.58\n",
      "**Tax:** $0.52\n",
      "**Total Amount to be Paid:** $8.10\n",
      "\n",
      "The cash tendered was $10.00, and the change given was $1.90.\n"
     ]
    }
   ],
   "source": [
    "print(withInstructionParsing[0].text)"
   ]
  },
  {
   "cell_type": "markdown",
   "metadata": {},
   "source": [
    "### Expense Report Document\n",
    "\n",
    "Here we extract employee name, employee ID, position, department, date ranges, individual expense items with dates, categories, and amounts."
   ]
  },
  {
   "cell_type": "markdown",
   "metadata": {},
   "source": [
    "<img src=\"expense_report_document.png\" alt=\"Alt Text\" width=\"500\">"
   ]
  },
  {
   "cell_type": "code",
   "execution_count": null,
   "metadata": {},
   "outputs": [
    {
     "name": "stdout",
     "output_type": "stream",
     "text": [
      "Started parsing the file under job_id b6bcc6e1-7d30-4522-9abd-ace196781a70\n"
     ]
    }
   ],
   "source": [
    "vanilaParsing = LlamaParse(result_type=\"markdown\").load_data(\n",
    "    \"./expense_report_document.pdf\"\n",
    ")"
   ]
  },
  {
   "cell_type": "code",
   "execution_count": null,
   "metadata": {},
   "outputs": [
    {
     "name": "stdout",
     "output_type": "stream",
     "text": [
      "# QUANTUM DYNAMICS CORPORATION\n",
      "\n",
      "# EMPLOYEE EXPENSE REPORT\n",
      "\n",
      "# FISCAL YEAR 2024\n",
      "\n",
      "# EMPLOYEE INFORMATION:\n",
      "\n",
      "Name: Dr. Alexandra Chen-Martinez, PhD\n",
      "\n",
      "Employee ID: QD-2022-1457\n",
      "\n",
      "Department: Advanced Research & Development\n",
      "\n",
      "Cost Center: CC-ARD-NA-003\n",
      "\n",
      "Project Codes: QD-QUANTUM-2024-01, QD-AI-2024-03\n",
      "\n",
      "Position: Principal Research Scientist\n",
      "\n",
      "Reporting Manager: Dr. James Thompson\n",
      "\n",
      "# TRIP/EXPENSE PERIOD:\n",
      "\n",
      "Start Date: November 15, 2024\n",
      "\n",
      "End Date: December 10, 2024\n",
      "\n",
      "Purpose: International Conference Attendance & Client Meetings\n",
      "\n",
      "Locations: Tokyo, Japan → Singapore → Sydney, Australia\n",
      "\n",
      "# CURRENCY CONVERSION RATES APPLIED:\n",
      "\n",
      "JPY (¥) → USD: 0.0068 (as of 11/15/2024)\n",
      "\n",
      "SGD (S$) → USD: 0.74 (as of 11/28/2024)\n",
      "\n",
      "AUD (A$) → USD: 0.65 (as of 12/03/2024)\n",
      "\n",
      "# ITEMIZED EXPENSES:\n",
      "\n",
      "|Date|Category|Description|Original|Currency|USD|\n",
      "|---|---|---|---|---|---|\n",
      "|11/15/2024|Transportation|JFK → NRT Business Class|4,250.00|USD|4,250.00|\n",
      "|Booking Ref: QF78956 - Corporate Rate Applied|Booking Ref: QF78956 - Corporate Rate Applied|Booking Ref: QF78956 - Corporate Rate Applied|Booking Ref: QF78956 - Corporate Rate Applied|Booking Ref: QF78956 - Corporate Rate Applied|Booking Ref: QF78956 - Corporate Rate Applied|\n",
      "|Project Code: QD-QUANTUM-2024-01|Project Code: QD-QUANTUM-2024-01|Project Code: QD-QUANTUM-2024-01|Project Code: QD-QUANTUM-2024-01|Project Code: QD-QUANTUM-2024-01|Project Code: QD-QUANTUM-2024-01|\n",
      "|11/16/2024|Accommodation|Hilton Tokyo - 5 nights|225,000|JPY|1,530.00|\n",
      "|Confirmation: HTK-2024-78956|Confirmation: HTK-2024-78956|Confirmation: HTK-2024-78956|Confirmation: HTK-2024-78956|Confirmation: HTK-2024-78956|Confirmation: HTK-2024-78956|\n"
     ]
    }
   ],
   "source": [
    "print(vanilaParsing[0].text)"
   ]
  },
  {
   "cell_type": "code",
   "execution_count": null,
   "metadata": {},
   "outputs": [
    {
     "name": "stdout",
     "output_type": "stream",
     "text": [
      "Started parsing the file under job_id 7b0d05bb-947b-4475-8d0f-f10386f7446e\n"
     ]
    }
   ],
   "source": [
    "parsingInstruction = \"\"\"You are provided with an expense report. \n",
    "Extract employee name, employee id, position, department, date ranges, individual expense items with dates, categories, and amounts.\"\"\"\n",
    "\n",
    "withInstructionParsing = LlamaParse(\n",
    "    result_type=\"markdown\", parsing_instruction=parsingInstruction\n",
    ").load_data(\"./expense_report_document.pdf\")"
   ]
  },
  {
   "cell_type": "code",
   "execution_count": null,
   "metadata": {},
   "outputs": [
    {
     "name": "stdout",
     "output_type": "stream",
     "text": [
      "**Employee Information:**\n",
      "- **Name:** Dr. Alexandra Chen-Martinez, PhD\n",
      "- **Employee ID:** QD-2022-1457\n",
      "- **Position:** Principal Research Scientist\n",
      "- **Department:** Advanced Research & Development\n",
      "\n",
      "**Trip/Expense Period:**\n",
      "- **Start Date:** November 15, 2024\n",
      "- **End Date:** December 10, 2024\n",
      "\n",
      "**Expense Items:**\n",
      "1. **Date:** 11/15/2024\n",
      "- **Category:** Transportation\n",
      "- **Description:** JFK → NRT Business Class\n",
      "- **Original Amount:** $4,250.00\n",
      "- **Currency:** USD\n",
      "- **USD Amount:** $4,250.00\n",
      "- **Booking Reference:** QF78956 - Corporate Rate Applied\n",
      "- **Project Code:** QD-QUANTUM-2024-01\n",
      "\n",
      "2. **Date:** 11/16/2024\n",
      "- **Category:** Accommodation\n",
      "- **Description:** Hilton Tokyo - 5 nights\n",
      "- **Original Amount:** ¥225,000\n",
      "- **Currency:** JPY\n",
      "- **USD Amount:** $1,530.00\n",
      "- **Confirmation:** HTK-2024-78956\n",
      "\n",
      "**Locations:**\n",
      "- Tokyo, Japan\n",
      "- Singapore\n",
      "- Sydney, Australia\n",
      "\n",
      "**Currency Conversion Rates Applied:**\n",
      "- JPY (¥) → USD: 0.0068 (as of 11/15/2024)\n",
      "- SGD (S$) → USD: 0.74 (as of 11/28/2024)\n",
      "- AUD (A$) → USD: 0.65 (as of 12/03/2024)\n"
     ]
    }
   ],
   "source": [
    "print(withInstructionParsing[0].text)"
   ]
  },
  {
   "cell_type": "markdown",
   "metadata": {},
   "source": [
    "### Purchase Order Document \n",
    "\n",
    "Here we identify the PO number, vendor details, shipping terms, and an itemized list of products with quantities and unit prices."
   ]
  },
  {
   "cell_type": "markdown",
   "metadata": {},
   "source": [
    "<img src=\"purchase_order_document.png\" alt=\"Alt Text\" width=\"500\">"
   ]
  },
  {
   "cell_type": "code",
   "execution_count": null,
   "metadata": {},
   "outputs": [
    {
     "name": "stdout",
     "output_type": "stream",
     "text": [
      "Started parsing the file under job_id b8cb11c3-7dce-4e6a-94bb-1a4e50e45e55\n"
     ]
    }
   ],
   "source": [
    "vanilaParsing = LlamaParse(result_type=\"markdown\").load_data(\n",
    "    \"./purchase_order_document.pdf\"\n",
    ")"
   ]
  },
  {
   "cell_type": "code",
   "execution_count": null,
   "metadata": {},
   "outputs": [
    {
     "name": "stdout",
     "output_type": "stream",
     "text": [
      "# GLOBAL TECH SOLUTIONS, INC.\n",
      "\n",
      "# PURCHASE ORDER\n",
      "\n",
      "Document Reference: PO-2024-GT-9876/REV.2\n",
      "\n",
      "[Original: PO-2024-GT-9876]\n",
      "\n",
      "Amendment Date: 12/10/2024\n",
      "\n",
      "# VENDOR INFORMATION:\n",
      "\n",
      "Quantum Electronics Manufacturing\n",
      "\n",
      "DUNS: 78-456-7890\n",
      "\n",
      "Tax ID: EU8976543210\n",
      "\n",
      "Hoofdorp, Netherlands\n",
      "\n",
      "Vendor #: QEM-EU-2024-001\n",
      "\n",
      "# SHIP TO:\n",
      "\n",
      "Global Tech Solutions, Inc.\n",
      "\n",
      "Building 7A, Innovation Park\n",
      "\n",
      "2100 Technology Drive\n",
      "\n",
      "Austin, TX 78701\n",
      "\n",
      "USA\n",
      "\n",
      "Attn: Sarah Martinez, Receiving Manager\n",
      "\n",
      "Tel: +1 (512) 555-0123\n",
      "\n",
      "# PAYMENT TERMS:\n",
      "\n",
      "Net 45\n",
      "\n",
      "2% discount if paid within 15 days\n",
      "\n",
      "# SHIPPING TERMS:\n",
      "\n",
      "DDP (Delivered Duty Paid) - Incoterms 2020\n",
      "\n",
      "Insurance Required: Yes\n",
      "\n",
      "Preferred Carrier: DHL/FedEx\n",
      "\n",
      "Required Delivery Date: 01/15/2025\n",
      "\n",
      "# SPECIAL INSTRUCTIONS:\n",
      "\n",
      "1. All shipments must include Certificate of Conformance\n",
      "2. ESD-sensitive items must be properly packaged\n",
      "3. Temperature logging required for items marked with *\n",
      "4. Partial shipments accepted with prior approval\n",
      "5. Quote PO number on all correspondence\n",
      "\n",
      "# ITEM DETAILS:\n",
      "\n",
      "|Line|Part Number|Description|Qty|UOM|Unit Price|Total|\n",
      "|---|---|---|---|---|---|---|\n",
      "|1|QE-MCU-5590|Microcontroller Unit|500|EA|$12.50|$6,250.00|\n"
     ]
    }
   ],
   "source": [
    "print(vanilaParsing[0].text)"
   ]
  },
  {
   "cell_type": "code",
   "execution_count": null,
   "metadata": {},
   "outputs": [
    {
     "name": "stdout",
     "output_type": "stream",
     "text": [
      "Started parsing the file under job_id d2731305-984d-4633-8a52-0493748cf10b\n"
     ]
    }
   ],
   "source": [
    "parsingInstruction = \"\"\"You are provided with a purchase order. \n",
    "Identify the PO number, vendor details, shipping terms, and itemized list of products with quantities and unit prices.\"\"\"\n",
    "\n",
    "withInstructionParsing = LlamaParse(\n",
    "    result_type=\"markdown\", parsing_instruction=parsingInstruction\n",
    ").load_data(\"./purchase_order_document.pdf\")"
   ]
  },
  {
   "cell_type": "code",
   "execution_count": null,
   "metadata": {},
   "outputs": [
    {
     "name": "stdout",
     "output_type": "stream",
     "text": [
      "Here are the details extracted from the purchase order:\n",
      "\n",
      "**PO Number:** PO-2024-GT-9876/REV.2\n",
      "\n",
      "**Vendor Details:**\n",
      "- **Vendor Name:** Quantum Electronics Manufacturing\n",
      "- **DUNS:** 78-456-7890\n",
      "- **Tax ID:** EU8976543210\n",
      "- **Address:** Hoofdorp, Netherlands\n",
      "- **Vendor Number:** QEM-EU-2024-001\n",
      "- **Contact Person:** Sarah Martinez, Receiving Manager\n",
      "- **Phone:** +1 (512) 555-0123\n",
      "\n",
      "**Shipping Terms:**\n",
      "- **Terms:** DDP (Delivered Duty Paid) - Incoterms 2020\n",
      "- **Insurance Required:** Yes\n",
      "- **Preferred Carrier:** DHL/FedEx\n",
      "- **Required Delivery Date:** 01/15/2025\n",
      "\n",
      "**Itemized List of Products:**\n",
      "1. **Part Number:** QE-MCU-5590\n",
      "- **Description:** Microcontroller Unit\n",
      "- **Quantity:** 500 EA\n",
      "- **Unit Price:** $12.50\n",
      "- **Total:** $6,250.00\n",
      "\n",
      "**Payment Terms:**\n",
      "- Net 45\n",
      "- 2% discount if paid within 15 days\n",
      "\n",
      "**Special Instructions:**\n",
      "1. All shipments must include Certificate of Conformance\n",
      "2. ESD-sensitive items must be properly packaged\n",
      "3. Temperature logging required for items marked with *\n",
      "4. Partial shipments accepted with prior approval\n",
      "5. Quote PO number on all correspondence\n"
     ]
    }
   ],
   "source": [
    "print(withInstructionParsing[0].text)"
   ]
  }
 ],
 "metadata": {
  "kernelspec": {
   "display_name": "llamacloud",
   "language": "python",
   "name": "llamacloud"
  },
  "language_info": {
   "codemirror_mode": {
    "name": "ipython",
    "version": 3
   },
   "file_extension": ".py",
   "mimetype": "text/x-python",
   "name": "python",
   "nbconvert_exporter": "python",
   "pygments_lexer": "ipython3"
  }
 },
 "nbformat": 4,
 "nbformat_minor": 2
}
