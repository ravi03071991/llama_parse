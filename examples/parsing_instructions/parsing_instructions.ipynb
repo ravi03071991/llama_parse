{
 "cells": [
  {
   "cell_type": "markdown",
   "metadata": {},
   "source": [
    "<a href=\"https://colab.research.google.com/github/run-llama/llama_parse/blob/main/examples/parsing_instructions.ipynb\" target=\"_parent\"><img src=\"https://colab.research.google.com/assets/colab-badge.svg\" alt=\"Open In Colab\"/></a>\n",
    "\n",
    "# Parsing documents with Instructions\n",
    "\n",
    "Parsing instructions allow you to guide our parsing model in the same way you would instruct an LLM.\n",
    "\n",
    "These instructions can be useful for improving the parser's performance on complex document layouts, extracting data in a specific format, or transforming the document in other ways.\n",
    "\n",
    "In this demonstration, we showcase how parsing instructions can be used to extract specific information from unstructured documents. Below are the documents we use for testing:\n",
    "\n",
    "1. McDonald's Receipt - Extracting the price of each order and the final amount to be paid.\n",
    "\n",
    "2. Expense Report Document - Extracting employee name, employee ID, position, department, date ranges, individual expense items with dates, categories, and amounts.\n",
    "\n",
    "3. Purchase Order Document - Identifying the PO number, vendor details, shipping terms, and an itemized list of products with quantities and unit prices.\n"
   ]
  },
  {
   "cell_type": "markdown",
   "metadata": {},
   "source": [
    "### Installation"
   ]
  },
  {
   "cell_type": "code",
   "execution_count": null,
   "metadata": {},
   "outputs": [],
   "source": [
    "!pip install llama-parse"
   ]
  },
  {
   "cell_type": "markdown",
   "metadata": {},
   "source": [
    "### Setup API Key"
   ]
  },
  {
   "cell_type": "code",
   "execution_count": null,
   "metadata": {},
   "outputs": [],
   "source": [
    "import nest_asyncio\n",
    "\n",
    "nest_asyncio.apply()\n",
    "\n",
    "import os\n",
    "\n",
    "os.environ[\"LLAMA_CLOUD_API_KEY\"] = \"llx-...\""
   ]
  },
  {
   "cell_type": "markdown",
   "metadata": {},
   "source": [
    "### McDonald's Receipt\n",
    "\n",
    "Here we extract the price of each order and the final amount to be paid."
   ]
  },
  {
   "cell_type": "code",
   "execution_count": null,
   "metadata": {},
   "outputs": [
    {
     "name": "stdout",
     "output_type": "stream",
     "text": [
      "Started parsing the file under job_id 0ffbb3d4-5148-47e7-a6a0-6ea0c47be0df\n"
     ]
    }
   ],
   "source": [
    "from llama_parse import LlamaParse\n",
    "\n",
    "vanilaParsing = LlamaParse(result_type=\"markdown\").load_data(\"./mcdonalds_receipt.png\")"
   ]
  },
  {
   "cell_type": "code",
   "execution_count": null,
   "metadata": {},
   "outputs": [
    {
     "name": "stdout",
     "output_type": "stream",
     "text": [
      "# Rate us HIGHLY SATISFIED\n",
      "\n",
      "Purchase any sandwich and receive a FREE ITEM\n",
      "\n",
      "Go to WWW.mcdvoice.com within 7 days of purchase of equal or lesser value and tell us about your visit.\n",
      "\n",
      "Validation Code: 31278-01121-21018-20481-00081-0\n",
      "\n",
      "Valid at participating US McDonald's\n",
      "\n",
      "Expires 30 days after receipt date\n",
      "\n",
      "# McDonald's Restaurant #312782378\n",
      "\n",
      "PINE RD NW\n",
      "\n",
      "RICE MN 56367-9740\n",
      "\n",
      "TEL# 320 393 4600\n",
      "\n",
      "KS# 12/08/2022 08:48 PM\n",
      "\n",
      "# Order\n",
      "\n",
      "|Happy Meal 6 Pc|$4.89|\n",
      "|---|---|\n",
      "|Creamy Ranch Cup| |\n",
      "|Extra Kids Fry| |\n",
      "|Wreck It Ralph 2 Snack| |\n",
      "|Oreo McFlurry|$2.69|\n",
      "\n",
      "# Summary\n",
      "\n",
      "|Subtotal|$7.58|\n",
      "|---|---|\n",
      "|Tax|$0.52|\n",
      "|Take-Out Total|$8.10|\n",
      "|Cash Tendered|$10.00|\n",
      "|Change|$1.90|\n",
      "\n",
      "### Not ACCEPTING APPLICATIONS *++ McDonald's Restaurant Rice\n",
      "\n",
      "Text to #36453 apply 31278\n"
     ]
    }
   ],
   "source": [
    "print(vanilaParsing[0].text)"
   ]
  },
  {
   "cell_type": "code",
   "execution_count": null,
   "metadata": {},
   "outputs": [
    {
     "name": "stdout",
     "output_type": "stream",
     "text": [
      "Started parsing the file under job_id af9c7ef4-e842-47f2-9a22-e99b959e8028\n"
     ]
    }
   ],
   "source": [
    "parsingInstruction = \"\"\"The provided document is a McDonald's receipt.\n",
    " Provide the price of each order and final amount to be paid.\"\"\"\n",
    "withInstructionParsing = LlamaParse(\n",
    "    result_type=\"markdown\", parsing_instruction=parsingInstruction\n",
    ").load_data(\"./mcdonalds_receipt.png\")"
   ]
  },
  {
   "cell_type": "code",
   "execution_count": null,
   "metadata": {},
   "outputs": [
    {
     "name": "stdout",
     "output_type": "stream",
     "text": [
      "Here are the prices for each order from the McDonald's receipt:\n",
      "\n",
      "1. Happy Meal 6 Pc: $4.89\n",
      "2. Snack Oreo McFlurry: $2.69\n",
      "\n",
      "**Subtotal:** $7.58\n",
      "**Tax:** $0.52\n",
      "**Total Amount to be Paid:** $8.10\n",
      "\n",
      "The cash tendered was $10.00, and the change given was $1.90.\n"
     ]
    }
   ],
   "source": [
    "print(withInstructionParsing[0].text)"
   ]
  },
  {
   "cell_type": "markdown",
   "metadata": {},
   "source": [
    "### Expense Report Document\n",
    "\n",
    "Here we extract employee name, employee ID, position, department, date ranges, individual expense items with dates, categories, and amounts."
   ]
  },
  {
   "cell_type": "code",
   "execution_count": null,
   "metadata": {},
   "outputs": [
    {
     "name": "stdout",
     "output_type": "stream",
     "text": [
      "Started parsing the file under job_id 63ff0728-bb93-421d-a093-6560050e6c22\n",
      "..."
     ]
    }
   ],
   "source": [
    "vanilaParsing = LlamaParse(result_type=\"markdown\").load_data(\n",
    "    \"./export_report_document.md\"\n",
    ")"
   ]
  },
  {
   "cell_type": "code",
   "execution_count": null,
   "metadata": {},
   "outputs": [
    {
     "name": "stdout",
     "output_type": "stream",
     "text": [
      "# QUANTUM DYNAMICS CORPORATION\n",
      "\n",
      "# EMPLOYEE EXPENSE REPORT\n",
      "\n",
      "# FISCAL YEAR 2024\n",
      "\n",
      "# EMPLOYEE INFORMATION:\n",
      "\n",
      "Name: Dr. Alexandra Chen-Martinez, PhD\n",
      "\n",
      "Employee ID: QD-2022-1457\n",
      "\n",
      "Department: Advanced Research & Development\n",
      "\n",
      "Cost Center: CC-ARD-NA-003\n",
      "\n",
      "Project Codes: QD-QUANTUM-2024-01, QD-AI-2024-03\n",
      "\n",
      "Position: Principal Research Scientist\n",
      "\n",
      "Reporting Manager: Dr. James Thompson\n",
      "\n",
      "# TRIP/EXPENSE PERIOD:\n",
      "\n",
      "Start Date: November 15, 2024\n",
      "\n",
      "End Date: December 10, 2024\n",
      "\n",
      "Purpose: International Conference Attendance & Client Meetings\n",
      "\n",
      "Locations: Tokyo, Japan → Singapore → Sydney, Australia\n",
      "\n",
      "# CURRENCY CONVERSION RATES APPLIED:\n",
      "\n",
      "JPY (¥) → USD: 0.0068 (as of 11/15/2024)\n",
      "\n",
      "SGD (S$) → USD: 0.74 (as of 11/28/2024)\n",
      "\n",
      "AUD (A$) → USD: 0.65 (as of 12/03/2024)\n",
      "\n",
      "# ITEMIZED EXPENSES:\n",
      "\n",
      "|Date|Category|Description|Original Currency|USD|\n",
      "|---|---|---|---|---|\n",
      "|11/15/2024|Transportation|JFK → NRT Business Class Booking Ref: QF78956 - Corporate Rate Applied Project Code: QD-QUANTUM-2024-01|4,250.00 USD|4,250.00|\n",
      "|11/16/2024|Accommodation|Hilton Tokyo - 5 nights Confirmation: HTK-2024-78956 Room Type: Business Executive Includes breakfast & WiFi|225,000 JPY|1,530.00|\n",
      "|11/17/2024|Meals|Client Dinner - Sushi Zen Attendees: 4 (See attached list) Project Code: QD-AI-2024-03|45,600 JPY|310.08|\n",
      "|11/18/2024|Conference|Quantum Computing Summit Registration Early Bird Rate Receipt #: QCS-2024-1234 Includes workshop materials|2,500.00 USD|2,500.00|\n",
      "|11/21/2024|Transportation|NRT → SIN Economy Premium Booking Ref: SQ45678|875.00 USD|875.00|\n",
      "|11/22/2024|Accommodation|Marina Bay Sands - 4 nights|1,780 SGD|1,317.20|\n"
     ]
    }
   ],
   "source": [
    "print(vanilaParsing[0].text)"
   ]
  },
  {
   "cell_type": "code",
   "execution_count": null,
   "metadata": {},
   "outputs": [
    {
     "name": "stdout",
     "output_type": "stream",
     "text": [
      "Started parsing the file under job_id 8c953105-3684-4239-bd27-946ddb3a1943\n"
     ]
    }
   ],
   "source": [
    "parsingInstruction = \"\"\"You are provided with an expense report. \n",
    "Extract employee name, employee id, position, department, date ranges, individual expense items with dates, categories, and amounts.\"\"\"\n",
    "\n",
    "withInstructionParsing = LlamaParse(\n",
    "    result_type=\"markdown\", parsing_instruction=parsingInstruction\n",
    ").load_data(\"./export_report_document.md\")"
   ]
  },
  {
   "cell_type": "code",
   "execution_count": null,
   "metadata": {},
   "outputs": [
    {
     "name": "stdout",
     "output_type": "stream",
     "text": [
      "**Employee Information:**\n",
      "- **Name:** Dr. Alexandra Chen-Martinez, PhD\n",
      "- **Employee ID:** QD-2022-1457\n",
      "- **Position:** Principal Research Scientist\n",
      "- **Department:** Advanced Research & Development\n",
      "\n",
      "**Trip/Expense Period:**\n",
      "- **Start Date:** November 15, 2024\n",
      "- **End Date:** December 10, 2024\n",
      "\n",
      "**Itemized Expenses:**\n",
      "\n",
      "1. **Date:** 11/15/2024\n",
      "- **Category:** Transportation\n",
      "- **Description:** JFK → NRT Business Class\n",
      "- **Original Currency:** USD\n",
      "- **Amount:** $4,250.00\n",
      "\n",
      "2. **Date:** 11/16/2024\n",
      "- **Category:** Accommodation\n",
      "- **Description:** Hilton Tokyo - 5 nights\n",
      "- **Original Currency:** JPY\n",
      "- **Amount:** ¥225,000 (Converted Amount: $1,530.00)\n",
      "\n",
      "3. **Date:** 11/17/2024\n",
      "- **Category:** Meals\n",
      "- **Description:** Client Dinner - Sushi Zen\n",
      "- **Original Currency:** JPY\n",
      "- **Amount:** ¥45,600 (Converted Amount: $310.08)\n",
      "\n",
      "4. **Date:** 11/18/2024 to 11/20/2024\n",
      "- **Category:** Conference Registration\n",
      "- **Description:** Quantum Computing Summit\n",
      "- **Original Currency:** USD\n",
      "- **Amount:** $2,500.00\n",
      "\n",
      "5. **Date:** 11/21/2024\n",
      "- **Category:** Transportation\n",
      "- **Description:** NRT → SIN Economy Premium\n",
      "- **Original Currency:** USD\n",
      "- **Amount:** $875.00\n",
      "\n",
      "6. **Date:** 11/22/2024\n",
      "- **Category:** Accommodation\n",
      "- **Description:** Marina Bay Sands - 4 nights\n",
      "- **Original Currency:** SGD\n",
      "- **Amount:** S$1,780 (Converted Amount: $1,317.20)\n",
      "\n",
      "**Locations:**\n",
      "- Tokyo, Japan\n",
      "- Singapore\n",
      "- Sydney, Australia\n",
      "\n",
      "**Currency Conversion Rates:**\n",
      "- JPY (¥) → USD: 0.0068 (as of 11/15/2024)\n",
      "- SGD (S$) → USD: 0.74 (as of 11/28/2024)\n",
      "- AUD (A$) → USD: 0.65 (as of 12/03/2024)\n"
     ]
    }
   ],
   "source": [
    "print(withInstructionParsing[0].text)"
   ]
  },
  {
   "cell_type": "markdown",
   "metadata": {},
   "source": [
    "### Purchase Order Document \n",
    "\n",
    "Here we identify the PO number, vendor details, shipping terms, and an itemized list of products with quantities and unit prices."
   ]
  },
  {
   "cell_type": "code",
   "execution_count": null,
   "metadata": {},
   "outputs": [
    {
     "name": "stdout",
     "output_type": "stream",
     "text": [
      "Started parsing the file under job_id e7e389d1-bdaa-4d12-8283-b736e21ffe6b\n"
     ]
    }
   ],
   "source": [
    "vanilaParsing = LlamaParse(result_type=\"markdown\").load_data(\n",
    "    \"./purchase_order_document.md\"\n",
    ")"
   ]
  },
  {
   "cell_type": "code",
   "execution_count": null,
   "metadata": {},
   "outputs": [
    {
     "name": "stdout",
     "output_type": "stream",
     "text": [
      "# GLOBAL TECH SOLUTIONS, INC.\n",
      "\n",
      "# PURCHASE ORDER\n",
      "\n",
      "Document Reference: PO-2024-GT-9876/REV.2\n",
      "\n",
      "[Original: PO-2024-GT-9876]\n",
      "\n",
      "Amendment Date: 12/10/2024\n",
      "\n",
      "# VENDOR INFORMATION:\n",
      "\n",
      "Quantum Electronics Manufacturing\n",
      "\n",
      "DUNS: 78-456-7890\n",
      "\n",
      "Tax ID: EU8976543210\n",
      "\n",
      "Hoofdorp, Netherlands\n",
      "\n",
      "Vendor #: QEM-EU-2024-001\n",
      "\n",
      "# SHIP TO:\n",
      "\n",
      "Global Tech Solutions, Inc.\n",
      "\n",
      "Building 7A, Innovation Park\n",
      "\n",
      "2100 Technology Drive\n",
      "\n",
      "Austin, TX 78701\n",
      "\n",
      "USA\n",
      "\n",
      "Attn: Sarah Martinez, Receiving Manager\n",
      "\n",
      "Tel: +1 (512) 555-0123\n",
      "\n",
      "# PAYMENT TERMS:\n",
      "\n",
      "Net 45\n",
      "\n",
      "2% discount if paid within 15 days\n",
      "\n",
      "# SHIPPING TERMS:\n",
      "\n",
      "DDP (Delivered Duty Paid) - Incoterms 2020\n",
      "\n",
      "Insurance Required: Yes\n",
      "\n",
      "Preferred Carrier: DHL/FedEx\n",
      "\n",
      "Required Delivery Date: 01/15/2025\n",
      "\n",
      "# SPECIAL INSTRUCTIONS:\n",
      "\n",
      "1. All shipments must include Certificate of Conformance\n",
      "2. ESD-sensitive items must be properly packaged\n",
      "3. Temperature logging required for items marked with *\n",
      "4. Partial shipments accepted with prior approval\n",
      "5. Quote PO number on all correspondence\n",
      "\n",
      "# ITEM DETAILS:\n",
      "\n",
      "|Line|Part Number|Description|Qty|UOM|Unit Price|Total|\n",
      "|---|---|---|---|---|---|---|\n",
      "|1|QE-MCU-5590|Microcontroller Unit<br/>Rev. B<br/>32-bit, 120MHz, LQFP-144<br/>*Temp Range: -40°C to +85°C<br/>Lot tracking required|500|EA|$12.50|$6,250.00|\n",
      "|2|QE-SENS-789|Temperature Sensor Module<br/>v2.1<br/>Digital Output, I2C Interface<br/>Calibration certificates required|750|EA|$8.75|$6,562.50|\n",
      "|3|QE-CAP-1123|Ceramic Capacitors<br/>Batch: X7R<br/>0.1μF ±5%, 50V<br/>Each box contains 100 units|2000|BOX|$5.25|$10,500.00|\n",
      "|4|QE-PCB-4567|Printed Circuit Board<br/>Ver: 3.0<br/>8-layer, ENIG finish<br/>IPC Class 3 Required|300|EA|$45.00|$13,500.00|\n"
     ]
    }
   ],
   "source": [
    "print(vanilaParsing[0].text)"
   ]
  },
  {
   "cell_type": "code",
   "execution_count": null,
   "metadata": {},
   "outputs": [
    {
     "name": "stdout",
     "output_type": "stream",
     "text": [
      "Started parsing the file under job_id c336a4aa-1711-4648-8612-f82e63bf4127\n"
     ]
    }
   ],
   "source": [
    "parsingInstruction = \"\"\"You are provided with a purchase order. \n",
    "Identify the PO number, vendor details, shipping terms, and itemized list of products with quantities and unit prices.\"\"\"\n",
    "\n",
    "withInstructionParsing = LlamaParse(\n",
    "    result_type=\"markdown\", parsing_instruction=parsingInstruction\n",
    ").load_data(\"./purchase_order_document.md\")"
   ]
  },
  {
   "cell_type": "code",
   "execution_count": null,
   "metadata": {},
   "outputs": [
    {
     "name": "stdout",
     "output_type": "stream",
     "text": [
      "**Purchase Order Details:**\n",
      "\n",
      "- **PO Number:** PO-2024-GT-9876/REV.2\n",
      "- **Vendor Details:**\n",
      "- **Vendor Name:** Quantum Electronics Manufacturing\n",
      "- **DUNS:** 78-456-7890\n",
      "- **Tax ID:** EU8976543210\n",
      "- **Address:** Hoofdorp, Netherlands\n",
      "- **Vendor #:** QEM-EU-2024-001\n",
      "\n",
      "- **Shipping Terms:**\n",
      "- **Terms:** DDP (Delivered Duty Paid) - Incoterms 2020\n",
      "- **Insurance Required:** Yes\n",
      "- **Preferred Carrier:** DHL/FedEx\n",
      "- **Required Delivery Date:** 01/15/2025\n",
      "\n",
      "- **Itemized List of Products:**\n",
      "1. **Item 1:**\n",
      "- **Part Number:** QE-MCU-5590\n",
      "- **Description:** Microcontroller Unit, Rev. B, 32-bit, 120MHz, LQFP-144\n",
      "- **Quantity:** 500 EA\n",
      "- **Unit Price:** $12.50\n",
      "- **Total Price:** $6,250.00\n",
      "- **Notes:** Temp Range: -40°C to +85°C, Lot tracking required\n",
      "\n",
      "2. **Item 2:**\n",
      "- **Part Number:** QE-SENS-789\n",
      "- **Description:** Temperature Sensor Module, v2.1, Digital Output, I2C Interface\n",
      "- **Quantity:** 750 EA\n",
      "- **Unit Price:** $8.75\n",
      "- **Total Price:** $6,562.50\n",
      "- **Notes:** Calibration certificates required\n",
      "\n",
      "3. **Item 3:**\n",
      "- **Part Number:** QE-CAP-1123\n",
      "- **Description:** Ceramic Capacitors, Batch: X7R, 0.1μF ±5%, 50V\n",
      "- **Quantity:** 2000 BOX\n",
      "- **Unit Price:** $5.25\n",
      "- **Total Price:** $10,500.00\n",
      "- **Notes:** Each box contains 100 units\n",
      "\n",
      "4. **Item 4:**\n",
      "- **Part Number:** QE-PCB-4567\n",
      "- **Description:** Printed Circuit Board, Ver: 3.0, 8-layer, ENIG finish\n",
      "- **Quantity:** 300 EA\n",
      "- **Unit Price:** $45.00\n",
      "- **Total Price:** $13,500.00\n",
      "- **Notes:** IPC Class 3 Required\n",
      "\n",
      "**Payment Terms:** Net 45, 2% discount if paid within 15 days\n",
      "\n",
      "**Special Instructions:**\n",
      "1. All shipments must include Certificate of Conformance\n",
      "2. ESD-sensitive items must be properly packaged\n",
      "3. Temperature logging required for items marked with *\n",
      "4. Partial shipments accepted with prior approval\n",
      "5. Quote PO number on all correspondence\n"
     ]
    }
   ],
   "source": [
    "print(withInstructionParsing[0].text)"
   ]
  }
 ],
 "metadata": {
  "kernelspec": {
   "display_name": "llamacloud",
   "language": "python",
   "name": "llamacloud"
  },
  "language_info": {
   "codemirror_mode": {
    "name": "ipython",
    "version": 3
   },
   "file_extension": ".py",
   "mimetype": "text/x-python",
   "name": "python",
   "nbconvert_exporter": "python",
   "pygments_lexer": "ipython3"
  }
 },
 "nbformat": 4,
 "nbformat_minor": 2
}
